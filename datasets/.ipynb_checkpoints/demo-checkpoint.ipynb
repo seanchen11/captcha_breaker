{
 "cells": [
  {
   "cell_type": "code",
   "execution_count": 1,
   "metadata": {},
   "outputs": [],
   "source": [
    "%matplotlib inline\n",
    "import cv2 as cv\n",
    "import numpy as np\n",
    "from matplotlib import pyplot as plt\n",
    "from PIL import Image\n",
    "import os"
   ]
  },
  {
   "cell_type": "code",
   "execution_count": 2,
   "metadata": {},
   "outputs": [],
   "source": [
    "def img_show(img):\n",
    "    fig = plt.figure()\n",
    "    plt.imshow(img)\n",
    "    plt.xticks([])\n",
    "    plt.yticks([])\n",
    "    plt.show()"
   ]
  },
  {
   "cell_type": "code",
   "execution_count": 3,
   "metadata": {},
   "outputs": [],
   "source": [
    "def img_save(img, img_name):\n",
    "    fig = plt.figure()\n",
    "    plt.imshow(img)\n",
    "    plt.xticks([])\n",
    "    plt.yticks([])\n",
    "    path = 'B/%s.png' % img_name\n",
    "    fig.savefig(path, bbox_inches='tight', pad_inches=0)"
   ]
  },
  {
   "cell_type": "code",
   "execution_count": 12,
   "metadata": {},
   "outputs": [],
   "source": [
    "def digit_save(img):\n",
    "    fig = plt.figure()\n",
    "    img = cv.resize(img, (28, 28)) \n",
    "    plt.imshow(img)\n",
    "    plt.xticks([])\n",
    "    plt.yticks([])\n",
    "    path = 'C/%s.png' % str(np.random.rand())[-5:]\n",
    "    fig.savefig(path, bbox_inches='tight', pad_inches=0)"
   ]
  },
  {
   "cell_type": "code",
   "execution_count": 5,
   "metadata": {},
   "outputs": [],
   "source": [
    "def main(img_name):\n",
    "    path = 'A/%s' % img_name \n",
    "    img = cv.imread(path, 0)\n",
    "    ret, thresh = cv.threshold(img, 125, 255, cv.THRESH_BINARY)\n",
    "    img2, contours, hierarchy = cv.findContours(thresh, cv.RETR_LIST, cv.CHAIN_APPROX_SIMPLE)\n",
    "    img_save(thresh, img_name)\n",
    "    for i, j in enumerate(contours):\n",
    "        if (cv.contourArea(j) < 1000) and (cv.contourArea(j) > 250):\n",
    "            [x,y,w,h] = cv.boundingRect(j)\n",
    "            if  h > 10:\n",
    "                cv.rectangle(img, (x - 10, y - 10), (x + w + 10, y + h + 10), (0, 255, 0), 2)\n",
    "                roi = thresh[y - 10 : y + h + 10, x - 10 : x + w + 10]\n",
    "                digit_save(roi)\n",
    "                roismall = cv.resize(roi, (10, 10))\n",
    "                roismall = roismall.reshape((1, 100))\n",
    "                roismall = np.float32(roismall)"
   ]
  },
  {
   "cell_type": "code",
   "execution_count": null,
   "metadata": {},
   "outputs": [
    {
     "name": "stderr",
     "output_type": "stream",
     "text": [
      "/Users/DannyShau/anaconda/envs/py3.5/lib/python3.5/site-packages/matplotlib/pyplot.py:537: RuntimeWarning: More than 20 figures have been opened. Figures created through the pyplot interface (`matplotlib.pyplot.figure`) are retained until explicitly closed and may consume too much memory. (To control this warning, see the rcParam `figure.max_open_warning`).\n",
      "  max_open_warning, RuntimeWarning)\n",
      "/Users/DannyShau/anaconda/envs/py3.5/lib/python3.5/site-packages/matplotlib/axis.py:1086: UserWarning: Unable to find pixel distance along axis for interval padding of ticks; assuming no interval padding needed.\n",
      "  warnings.warn(\"Unable to find pixel distance along axis \"\n"
     ]
    }
   ],
   "source": [
    "%%time\n",
    "path = 'A/'\n",
    "for i in os.listdir(path):\n",
    "    try:\n",
    "        main(i)\n",
    "    except:\n",
    "        pass"
   ]
  },
  {
   "cell_type": "code",
   "execution_count": null,
   "metadata": {},
   "outputs": [],
   "source": []
  }
 ],
 "metadata": {
  "kernelspec": {
   "display_name": "Python 3",
   "language": "python",
   "name": "python3"
  },
  "language_info": {
   "codemirror_mode": {
    "name": "ipython",
    "version": 3
   },
   "file_extension": ".py",
   "mimetype": "text/x-python",
   "name": "python",
   "nbconvert_exporter": "python",
   "pygments_lexer": "ipython3",
   "version": "3.5.4"
  }
 },
 "nbformat": 4,
 "nbformat_minor": 2
}
