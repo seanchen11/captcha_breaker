{
 "cells": [
  {
   "cell_type": "code",
   "execution_count": 1,
   "metadata": {},
   "outputs": [],
   "source": [
    "%matplotlib inline\n",
    "import cv2\n",
    "import numpy as np\n",
    "from matplotlib import pyplot as plt"
   ]
  },
  {
   "cell_type": "code",
   "execution_count": 2,
   "metadata": {},
   "outputs": [],
   "source": [
    "def img_show(img):\n",
    "    fig = plt.figure()\n",
    "    plt.imshow(img)\n",
    "    plt.xticks([])\n",
    "    plt.yticks([])\n",
    "#     fig.savefig('test', bbox_inches='tight', pad_inches=0)\n",
    "    plt.show()"
   ]
  },
  {
   "cell_type": "code",
   "execution_count": 50,
   "metadata": {},
   "outputs": [
    {
     "data": {
      "image/png": "[encoded data removed]",
      "text/plain": [
       "<Figure size 432x288 with 1 Axes>"
      ]
     },
     "metadata": {},
     "output_type": "display_data"
    }
   ],
   "source": [
    "\n",
    "im = cv2.imread('datasets/test.png')\n",
    "out = np.zeros(im.shape,np.uint8)\n",
    "gray = cv2.cvtColor(im,cv2.COLOR_BGR2GRAY)\n",
    "thresh = cv2.adaptiveThreshold(gray,255,1,1,11,2)\n",
    "\n",
    "im2,contours,hierarchy = cv2.findContours(thresh,cv2.RETR_LIST,cv2.CHAIN_APPROX_SIMPLE)\n",
    "\n",
    "for cnt in contours:\n",
    "    if (cv2.contourArea(cnt) < 1000) and (cv2.contourArea(cnt) > 100):\n",
    "        [x,y,w,h] = cv2.boundingRect(cnt)\n",
    "        if  h > 10:\n",
    "            cv2.rectangle(im,(x-10,y-10),(x+w+10,y+h+10),(0,255,0),2)\n",
    "            roi = thresh[y:y+h,x:x+w]\n",
    "            roismall = cv2.resize(roi,(10,10))\n",
    "            roismall = roismall.reshape((1,100))\n",
    "            roismall = np.float32(roismall)\n",
    "#             retval, results, neigh_resp, dists = model.find_nearest(roismall, k = 1)\n",
    "#             string = str(int((results[0][0])))\n",
    "#             cv2.putText(out,string,(x,y+h),0,1,(0,255,0))\n",
    "\n",
    "img_show(im)"
   ]
  },
  {
   "cell_type": "code",
   "execution_count": 35,
   "metadata": {},
   "outputs": [
    {
     "data": {
      "image/png": "[encoded data removed]",
      "text/plain": [
       "<Figure size 432x288 with 1 Axes>"
      ]
     },
     "metadata": {},
     "output_type": "display_data"
    }
   ],
   "source": [
    "img_show(gray)"
   ]
  },
  {
   "cell_type": "code",
   "execution_count": null,
   "metadata": {},
   "outputs": [],
   "source": []
  }
 ],
 "metadata": {
  "kernelspec": {
   "display_name": "Python 3",
   "language": "python",
   "name": "python3"
  },
  "language_info": {
   "codemirror_mode": {
    "name": "ipython",
    "version": 3
   },
   "file_extension": ".py",
   "mimetype": "text/x-python",
   "name": "python",
   "nbconvert_exporter": "python",
   "pygments_lexer": "ipython3",
   "version": "3.5.4"
  }
 },
 "nbformat": 4,
 "nbformat_minor": 2
}
